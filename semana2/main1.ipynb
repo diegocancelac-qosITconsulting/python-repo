{
 "cells": [
  {
   "cell_type": "code",
   "execution_count": null,
   "metadata": {},
   "outputs": [],
   "source": [
    "class Galleta:\n",
    "    chocolate=False\n",
    "    size=10\n",
    "\n",
    "    def __init__(self, chocolate, size):\n",
    "        self.chocolate=chocolate\n",
    "        self.size=size\n",
    "        pass\n",
    "    pass"
   ]
  },
  {
   "cell_type": "code",
   "execution_count": null,
   "metadata": {},
   "outputs": [],
   "source": [
    "una_galleta=Galleta(True, 10)\n",
    "\n"
   ]
  },
  {
   "cell_type": "markdown",
   "metadata": {},
   "source": [
    "🔹 Instrucciones:\n",
    "Define una clase Circulo.\n",
    "Usa el método __init__ para inicializar el radio.\n",
    "Agrega un método area() que calcule el área del círculo.\n",
    "Agrega un método perimetro() que calcule el perímetro.\n",
    "Crea un objeto de Circulo con un radio dado y muestra sus valores."
   ]
  },
  {
   "cell_type": "code",
   "execution_count": null,
   "metadata": {},
   "outputs": [
    {
     "name": "stdout",
     "output_type": "stream",
     "text": [
      "El área del círculo es: 78.53981633974483\n",
      "El perímetro del círculo es: 31.41592653589793\n"
     ]
    }
   ],
   "source": [
    "import math\n",
    "\n",
    "class Circulo:\n",
    "    def __init__(self, radio):\n",
    "        self.radio=radio\n",
    "\n",
    "    def area(self):\n",
    "        return math.pi * (self.radio ** 2)\n",
    "\n",
    "    def perimetro(self):\n",
    "        return 2 * math.pi * self.radio\n",
    "    \n",
    "\n",
    "circulo=Circulo(5)\n",
    "\n",
    "print(f\"El área del círculo es: {circulo.area()}\")\n",
    "print(f\"El perímetro del círculo es: {circulo.perimetro()}\")\n"
   ]
  }
 ],
 "metadata": {
  "kernelspec": {
   "display_name": "Python 3",
   "language": "python",
   "name": "python3"
  },
  "language_info": {
   "codemirror_mode": {
    "name": "ipython",
    "version": 3
   },
   "file_extension": ".py",
   "mimetype": "text/x-python",
   "name": "python",
   "nbconvert_exporter": "python",
   "pygments_lexer": "ipython3",
   "version": "3.12.2"
  }
 },
 "nbformat": 4,
 "nbformat_minor": 2
}
