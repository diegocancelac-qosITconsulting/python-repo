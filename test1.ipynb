{
 "cells": [
  {
   "cell_type": "code",
   "execution_count": 22,
   "metadata": {},
   "outputs": [
    {
     "name": "stdout",
     "output_type": "stream",
     "text": [
      "media  3.5\n",
      "esta \"palabra\" va entre comillas\n",
      "\t test tab\n",
      "esta es una cadena con salto de linea \n",
      "\n",
      "esta es una cadena con backslash n\n",
      "\n",
      "Hello, world!\n",
      "Hello, world!\n",
      "Hello, world!\n",
      "Hello, world!\n",
      "Hello, world!\n",
      "\n",
      "aqui hay 10 espacios -->          <--\n",
      "!\n",
      "lo, world!\n"
     ]
    }
   ],
   "source": [
    "nota1=2\n",
    "nota2=5\n",
    "media=(nota1+nota2)/2\n",
    "print(\"media \", media)\n",
    "\n",
    "print('esta \"palabra\" va entre comillas')\n",
    "print(\"\\t test tab\")\n",
    "\n",
    "print(\"esta es una cadena con salto de linea \\n\")\n",
    "\n",
    "print(\"esta es una cadena con backslash n\\n\")\n",
    "\n",
    "\n",
    "cadena=\"Hello, world!\"\n",
    "print((cadena+'\\n')*5)\n",
    "\n",
    "\n",
    "print(f'aqui hay 10 espacios -->{' '*10}<--')\n",
    "\n",
    "print(cadena[-1])\n",
    "print(cadena[3:])\n"
   ]
  },
  {
   "cell_type": "code",
   "execution_count": null,
   "metadata": {},
   "outputs": [
    {
     "name": "stdout",
     "output_type": "stream",
     "text": [
      "[1, 2, 3, 4, 5]\n",
      "3\n",
      "[3, 'cadena', 3.14, 1, 2, 3, 4, 5]\n",
      "[3, 'nueva cadena', 3.14, 1, 2, 3, 4, 5]\n"
     ]
    },
    {
     "ename": "AttributeError",
     "evalue": "'builtin_function_or_method' object has no attribute 'upper'",
     "output_type": "error",
     "traceback": [
      "\u001b[1;31m---------------------------------------------------------------------------\u001b[0m",
      "\u001b[1;31mAttributeError\u001b[0m                            Traceback (most recent call last)",
      "Cell \u001b[1;32mIn[12], line 20\u001b[0m\n\u001b[0;32m     18\u001b[0m letras[:\u001b[38;5;241m3\u001b[39m] \u001b[38;5;241m=\u001b[39m [\u001b[38;5;124m'\u001b[39m\u001b[38;5;124mA\u001b[39m\u001b[38;5;124m'\u001b[39m,\u001b[38;5;124m'\u001b[39m\u001b[38;5;124mB\u001b[39m\u001b[38;5;124m'\u001b[39m,\u001b[38;5;124m'\u001b[39m\u001b[38;5;124mC\u001b[39m\u001b[38;5;124m'\u001b[39m]\n\u001b[0;32m     19\u001b[0m letras[\u001b[38;5;241m3\u001b[39m]\u001b[38;5;241m.\u001b[39mupper()\n\u001b[1;32m---> 20\u001b[0m \u001b[43mletras\u001b[49m\u001b[38;5;241;43m.\u001b[39;49m\u001b[38;5;21;43m__getitem__\u001b[39;49m\u001b[38;5;241;43m.\u001b[39;49m\u001b[43mupper\u001b[49m()\n",
      "\u001b[1;31mAttributeError\u001b[0m: 'builtin_function_or_method' object has no attribute 'upper'"
     ]
    }
   ],
   "source": [
    "numeros=[1,2,3,4,5]\n",
    "print(numeros)\n",
    "datos=[3,\"cadena\",3.14]\n",
    "print(len(datos))\n",
    "datos[0:2]\n",
    "\n",
    "combinacion=datos+numeros\n",
    "print(combinacion)\n",
    "combinacion[1]=\"nueva cadena\"\n",
    "\n",
    "print(combinacion)\n",
    "combinacion.append(12)\n",
    "combinacion\n",
    "\n",
    "letras=['a','b','c','d','e','f','g','h']\n",
    "letras[0:3]\n",
    "letras[:3]\n",
    "letras[:3] = ['A','B','C']\n",
    "letras[3].upper()\n"
   ]
  },
  {
   "cell_type": "code",
   "execution_count": 15,
   "metadata": {},
   "outputs": [
    {
     "name": "stdout",
     "output_type": "stream",
     "text": [
      "[[1, 2, 3], [4, 5, 6], [7, 8, 9]]\n"
     ]
    },
    {
     "data": {
      "text/plain": [
       "9"
      ]
     },
     "execution_count": 15,
     "metadata": {},
     "output_type": "execute_result"
    }
   ],
   "source": [
    "a=[1,2,3]\n",
    "b=[4,5,6]\n",
    "c=[7,8,9]\n",
    "\n",
    "matriz=[a,b,c]\n",
    "print(matriz)\n",
    "matriz[-1][-1]"
   ]
  },
  {
   "cell_type": "markdown",
   "metadata": {},
   "source": [
    "<h1>logicos</h1>"
   ]
  },
  {
   "cell_type": "code",
   "execution_count": 16,
   "metadata": {},
   "outputs": [
    {
     "data": {
      "text/plain": [
       "False"
      ]
     },
     "execution_count": 16,
     "metadata": {},
     "output_type": "execute_result"
    }
   ],
   "source": [
    "1+1==3"
   ]
  },
  {
   "cell_type": "code",
   "execution_count": 17,
   "metadata": {},
   "outputs": [
    {
     "data": {
      "text/plain": [
       "True"
      ]
     },
     "execution_count": 17,
     "metadata": {},
     "output_type": "execute_result"
    }
   ],
   "source": [
    "1+1==2"
   ]
  },
  {
   "cell_type": "code",
   "execution_count": 22,
   "metadata": {},
   "outputs": [
    {
     "data": {
      "text/plain": [
       "True"
      ]
     },
     "execution_count": 22,
     "metadata": {},
     "output_type": "execute_result"
    }
   ],
   "source": [
    "matriz=[1]\n",
    "matriz2=[1]\n",
    "matriz.__eq__(matriz2)\n",
    "matriz==matriz2"
   ]
  },
  {
   "cell_type": "code",
   "execution_count": 23,
   "metadata": {},
   "outputs": [
    {
     "data": {
      "text/plain": [
       "True"
      ]
     },
     "execution_count": 23,
     "metadata": {},
     "output_type": "execute_result"
    }
   ],
   "source": [
    "\"Hola\"==\"Hola\""
   ]
  },
  {
   "cell_type": "code",
   "execution_count": 25,
   "metadata": {},
   "outputs": [
    {
     "data": {
      "text/plain": [
       "3"
      ]
     },
     "execution_count": 25,
     "metadata": {},
     "output_type": "execute_result"
    }
   ],
   "source": [
    "True*3"
   ]
  },
  {
   "cell_type": "code",
   "execution_count": 26,
   "metadata": {},
   "outputs": [
    {
     "name": "stdout",
     "output_type": "stream",
     "text": [
      "esto siempre se imprime\n"
     ]
    }
   ],
   "source": [
    "if 4:\n",
    "    print(\"esto siempre se imprime\")"
   ]
  },
  {
   "cell_type": "code",
   "execution_count": 30,
   "metadata": {},
   "outputs": [
    {
     "data": {
      "text/plain": [
       "True"
      ]
     },
     "execution_count": 30,
     "metadata": {},
     "output_type": "execute_result"
    }
   ],
   "source": [
    "not False"
   ]
  },
  {
   "cell_type": "code",
   "execution_count": 31,
   "metadata": {},
   "outputs": [
    {
     "data": {
      "text/plain": [
       "True"
      ]
     },
     "execution_count": 31,
     "metadata": {},
     "output_type": "execute_result"
    }
   ],
   "source": [
    "True and True"
   ]
  },
  {
   "cell_type": "code",
   "execution_count": 33,
   "metadata": {},
   "outputs": [
    {
     "data": {
      "text/plain": [
       "True"
      ]
     },
     "execution_count": 33,
     "metadata": {},
     "output_type": "execute_result"
    }
   ],
   "source": [
    "c=\"Hola mundo\"\n",
    "len(c)>=20 or c[0]=='H'"
   ]
  },
  {
   "cell_type": "code",
   "execution_count": 37,
   "metadata": {},
   "outputs": [
    {
     "data": {
      "text/plain": [
       "False"
      ]
     },
     "execution_count": 37,
     "metadata": {},
     "output_type": "execute_result"
    }
   ],
   "source": [
    "c=\"lectura\"\n",
    "c[0]=='h' or c[0]=='H'"
   ]
  },
  {
   "cell_type": "code",
   "execution_count": 39,
   "metadata": {},
   "outputs": [
    {
     "name": "stdout",
     "output_type": "stream",
     "text": [
      "7\n"
     ]
    }
   ],
   "source": [
    "a=5\n",
    "a+=2\n",
    "\n",
    "print(a)"
   ]
  },
  {
   "cell_type": "markdown",
   "metadata": {},
   "source": [
    "<h1>funciones logicas<h1>\n"
   ]
  },
  {
   "cell_type": "code",
   "execution_count": 41,
   "metadata": {},
   "outputs": [
    {
     "name": "stdout",
     "output_type": "stream",
     "text": [
      "esto siempre se imprime\n",
      "a es igual a 5\n"
     ]
    }
   ],
   "source": [
    "if True:\n",
    "    print(\"esto siempre se imprime\")\n",
    "\n",
    "\n",
    "#variable a=5, comprobamos si es 2\n",
    "a=5\n",
    "\n",
    "if a==2:\n",
    "    print(\"a es igual a 2\")\n",
    "elif a==5:\n",
    "    print(\"a es igual a 5\")"
   ]
  },
  {
   "cell_type": "code",
   "execution_count": 42,
   "metadata": {},
   "outputs": [
    {
     "name": "stdout",
     "output_type": "stream",
     "text": [
      "11 es impar\n"
     ]
    }
   ],
   "source": [
    "n=11\n",
    "\n",
    "if n%2==0:\n",
    "    print(f\"{n} es par\")\n",
    "else:\n",
    "    print(f\"{n} es impar\")"
   ]
  },
  {
   "cell_type": "code",
   "execution_count": 44,
   "metadata": {},
   "outputs": [
    {
     "data": {
      "text/plain": [
       "9.8"
      ]
     },
     "execution_count": 44,
     "metadata": {},
     "output_type": "execute_result"
    }
   ],
   "source": [
    "nota=float(input(\"Introduce una nota: \"))\n",
    "nota"
   ]
  },
  {
   "cell_type": "code",
   "execution_count": 49,
   "metadata": {},
   "outputs": [
    {
     "name": "stdout",
     "output_type": "stream",
     "text": [
      "La calificación es B\n"
     ]
    }
   ],
   "source": [
    "nota=float(input(\"Introduce una nota: \"))\n",
    "if nota>=9:\n",
    "    print(\"La calificación es A++\")\n",
    "elif nota>=7:\n",
    "    print(\"La calificación es A+\")\n",
    "elif nota>=6:\n",
    "    print(\"La calificación es A\")\n",
    "elif nota>=5:\n",
    "    print(\"La calificación es B\")\n",
    "else:\n",
    "    print(\"La calificación es insuficiente\")\n"
   ]
  },
  {
   "cell_type": "code",
   "execution_count": 53,
   "metadata": {},
   "outputs": [
    {
     "name": "stdout",
     "output_type": "stream",
     "text": [
      "Dia no valido\n"
     ]
    }
   ],
   "source": [
    "dia=input(\"Introduzca el dia de la semana: \")\n",
    "match dia:\n",
    "    case \"lunes\":\n",
    "        print(\"Hoy es Lunes\")\n",
    "    case \"martes\":\n",
    "        print(\"Hoy es Martes\")\n",
    "    case \"miercoles\":\n",
    "        print(\"Hoy es Miercoles\")\n",
    "    case \"jueves\":\n",
    "        print(\"Hoy es Jueves\")\n",
    "    case \"viernes\":\n",
    "        print(\"Hoy es Viernes\")\n",
    "    case \"sabado\":\n",
    "        print(\"Hoy es Sabado\")\n",
    "    case \"domingo\":\n",
    "        print(\"Hoy es Domingo\")\n",
    "    case _:\n",
    "        print(\"Dia no valido\")"
   ]
  },
  {
   "cell_type": "code",
   "execution_count": 56,
   "metadata": {},
   "outputs": [
    {
     "name": "stdout",
     "output_type": "stream",
     "text": [
      "1\n",
      "2\n",
      "3\n",
      "4\n",
      "5\n",
      "6\n"
     ]
    }
   ],
   "source": [
    "c=0\n",
    "while c<6:\n",
    "    c+=1\n",
    "    print(c)"
   ]
  },
  {
   "cell_type": "code",
   "execution_count": 58,
   "metadata": {},
   "outputs": [
    {
     "name": "stdout",
     "output_type": "stream",
     "text": [
      "----------\n",
      "1x1:1\n",
      "1x2:2\n",
      "1x3:3\n",
      "1x4:4\n",
      "1x5:5\n",
      "1x6:6\n",
      "1x7:7\n",
      "1x8:8\n",
      "1x9:9\n",
      "1x10:10\n",
      "----------\n",
      "2x1:2\n",
      "2x2:4\n",
      "2x3:6\n",
      "2x4:8\n",
      "2x5:10\n",
      "2x6:12\n",
      "2x7:14\n",
      "2x8:16\n",
      "2x9:18\n",
      "2x10:20\n",
      "----------\n",
      "3x1:3\n",
      "3x2:6\n",
      "3x3:9\n",
      "3x4:12\n",
      "3x5:15\n",
      "3x6:18\n",
      "3x7:21\n",
      "3x8:24\n",
      "3x9:27\n",
      "3x10:30\n",
      "----------\n",
      "4x1:4\n",
      "4x2:8\n",
      "4x3:12\n",
      "4x4:16\n",
      "4x5:20\n",
      "4x6:24\n",
      "4x7:28\n",
      "4x8:32\n",
      "4x9:36\n",
      "4x10:40\n",
      "----------\n",
      "5x1:5\n",
      "5x2:10\n",
      "5x3:15\n",
      "5x4:20\n",
      "5x5:25\n",
      "5x6:30\n",
      "5x7:35\n",
      "5x8:40\n",
      "5x9:45\n",
      "5x10:50\n",
      "----------\n",
      "6x1:6\n",
      "6x2:12\n",
      "6x3:18\n",
      "6x4:24\n",
      "6x5:30\n",
      "6x6:36\n",
      "6x7:42\n",
      "6x8:48\n",
      "6x9:54\n",
      "6x10:60\n",
      "----------\n",
      "7x1:7\n",
      "7x2:14\n",
      "7x3:21\n",
      "7x4:28\n",
      "7x5:35\n",
      "7x6:42\n",
      "7x7:49\n",
      "7x8:56\n",
      "7x9:63\n",
      "7x10:70\n",
      "----------\n",
      "8x1:8\n",
      "8x2:16\n",
      "8x3:24\n",
      "8x4:32\n",
      "8x5:40\n",
      "8x6:48\n",
      "8x7:56\n",
      "8x8:64\n",
      "8x9:72\n",
      "8x10:80\n",
      "----------\n",
      "9x1:9\n",
      "9x2:18\n",
      "9x3:27\n",
      "9x4:36\n",
      "9x5:45\n",
      "9x6:54\n",
      "9x7:63\n",
      "9x8:72\n",
      "9x9:81\n",
      "9x10:90\n",
      "----------\n",
      "10x1:10\n",
      "10x2:20\n",
      "10x3:30\n",
      "10x4:40\n",
      "10x5:50\n",
      "10x6:60\n",
      "10x7:70\n",
      "10x8:80\n",
      "10x9:90\n",
      "10x10:100\n"
     ]
    }
   ],
   "source": [
    "for i in range(10):\n",
    "    print(\"-\"*10)\n",
    "    for j in range(10):\n",
    "        print(f\"{i+1}x{j+1}:{(i+1)*(j+1)}\")"
   ]
  },
  {
   "cell_type": "code",
   "execution_count": 59,
   "metadata": {},
   "outputs": [
    {
     "name": "stdout",
     "output_type": "stream",
     "text": [
      "12x1:12\n",
      "12x2:24\n",
      "12x3:36\n",
      "12x4:48\n",
      "12x5:60\n",
      "12x6:72\n",
      "12x7:84\n",
      "12x8:96\n",
      "12x9:108\n",
      "12x10:120\n"
     ]
    }
   ],
   "source": [
    "n=int(input(\"Dime el numero a obtener la tabla: \"))\n",
    "\n",
    "for i in range(1,11):\n",
    "    print(f\"{n}x{i}:{n*i}\")"
   ]
  },
  {
   "cell_type": "code",
   "execution_count": 65,
   "metadata": {},
   "outputs": [
    {
     "name": "stdout",
     "output_type": "stream",
     "text": [
      "Hola mundo\n",
      "La suma es: 12\n",
      "True\n"
     ]
    }
   ],
   "source": [
    "def saludo():\n",
    "    print(\"Hola mundo\")\n",
    "\n",
    "saludo()\n",
    "\n",
    "def sumar(a,b):\n",
    "    return a+b\n",
    "\n",
    "print(f\"La suma es: {sumar(5,7)}\")\n",
    "\n",
    "def es_par(a):\n",
    "    if a%2==0: \n",
    "        return True\n",
    "    else:\n",
    "        return False\n",
    "    \n",
    "print(es_par(6))"
   ]
  }
 ],
 "metadata": {
  "kernelspec": {
   "display_name": "Python 3",
   "language": "python",
   "name": "python3"
  },
  "language_info": {
   "codemirror_mode": {
    "name": "ipython",
    "version": 3
   },
   "file_extension": ".py",
   "mimetype": "text/x-python",
   "name": "python",
   "nbconvert_exporter": "python",
   "pygments_lexer": "ipython3",
   "version": "3.12.2"
  }
 },
 "nbformat": 4,
 "nbformat_minor": 2
}
